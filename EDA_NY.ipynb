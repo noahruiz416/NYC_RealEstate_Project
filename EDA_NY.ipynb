{
  "nbformat": 4,
  "nbformat_minor": 0,
  "metadata": {
    "colab": {
      "name": "EDA-NY.ipynb",
      "provenance": [],
      "collapsed_sections": [],
      "authorship_tag": "ABX9TyNYvRhni0wyHG587VA/FMG8",
      "include_colab_link": true
    },
    "kernelspec": {
      "name": "python3",
      "display_name": "Python 3"
    },
    "language_info": {
      "name": "python"
    }
  },
  "cells": [
    {
      "cell_type": "markdown",
      "metadata": {
        "id": "view-in-github",
        "colab_type": "text"
      },
      "source": [
        "<a href=\"https://colab.research.google.com/github/noahruiz416/NYC_RealEstate_Project/blob/main/EDA_NY.ipynb\" target=\"_parent\"><img src=\"https://colab.research.google.com/assets/colab-badge.svg\" alt=\"Open In Colab\"/></a>"
      ]
    },
    {
      "cell_type": "markdown",
      "source": [
        "#The purpose of this script is to use the CSV created in the ETL file, to explore NYC real estate data.\n",
        "\n",
        "###The insights gained from this EDA will be used to help build out various statistical and machine learning models to help predict real estate \"Sale Prices\"."
      ],
      "metadata": {
        "id": "HuLroE8xUY2w"
      }
    },
    {
      "cell_type": "code",
      "execution_count": 5,
      "metadata": {
        "colab": {
          "base_uri": "https://localhost:8080/"
        },
        "id": "ziGK2BqVSCZa",
        "outputId": "23cd94d7-33ca-4fff-de85-244e8c11124c"
      },
      "outputs": [
        {
          "output_type": "stream",
          "name": "stdout",
          "text": [
            "Mounted at /content/gdrive\n"
          ]
        }
      ],
      "source": [
        "import pandas as pd \n",
        "import numpy as np \n",
        "import seaborn as sns\n",
        "from google.colab import drive \n",
        "drive.mount('/content/gdrive')"
      ]
    },
    {
      "cell_type": "code",
      "source": [
        "real_estate_ny = pd.read_csv(\"gdrive/My Drive/real_estate_NY_cloud.csv\")"
      ],
      "metadata": {
        "colab": {
          "base_uri": "https://localhost:8080/"
        },
        "id": "xNy8k_U4SIXP",
        "outputId": "169914b7-0ce6-4cb4-e925-48c53c5487b7"
      },
      "execution_count": 6,
      "outputs": [
        {
          "output_type": "stream",
          "name": "stderr",
          "text": [
            "/usr/local/lib/python3.7/dist-packages/IPython/core/interactiveshell.py:2882: DtypeWarning: Columns (1) have mixed types.Specify dtype option on import or set low_memory=False.\n",
            "  exec(code_obj, self.user_global_ns, self.user_ns)\n"
          ]
        }
      ]
    },
    {
      "cell_type": "code",
      "source": [
        "real_estate_ny.info()"
      ],
      "metadata": {
        "colab": {
          "base_uri": "https://localhost:8080/"
        },
        "id": "fOttTBHKSRh7",
        "outputId": "61ceb0b2-727f-49c6-a6c5-a1f1a27faa92"
      },
      "execution_count": 7,
      "outputs": [
        {
          "output_type": "stream",
          "name": "stdout",
          "text": [
            "<class 'pandas.core.frame.DataFrame'>\n",
            "RangeIndex: 413743 entries, 0 to 413742\n",
            "Data columns (total 29 columns):\n",
            " #   Column                      Non-Null Count   Dtype  \n",
            "---  ------                      --------------   -----  \n",
            " 0   Unnamed: 0                  413743 non-null  int64  \n",
            " 1   borough                     413743 non-null  object \n",
            " 2   neighborhood                413743 non-null  object \n",
            " 3   building_class_category     413743 non-null  object \n",
            " 4   tax_class_as_of_final_roll  409843 non-null  object \n",
            " 5   block                       413743 non-null  int64  \n",
            " 6   lot                         413743 non-null  int64  \n",
            " 7   building_class_as_of_final  409843 non-null  object \n",
            " 8   address                     413743 non-null  object \n",
            " 9   zip_code                    413717 non-null  float64\n",
            " 10  residential_units           384890 non-null  float64\n",
            " 11  commercial_units            384890 non-null  float64\n",
            " 12  total_units                 384890 non-null  float64\n",
            " 13  land_square_feet            309644 non-null  float64\n",
            " 14  gross_square_feet           298514 non-null  float64\n",
            " 15  year_built                  403369 non-null  float64\n",
            " 16  tax_class_at_time_of_sale   413743 non-null  int64  \n",
            " 17  building_class_at_time_of   413743 non-null  object \n",
            " 18  sale_price                  413743 non-null  float64\n",
            " 19  sale_date                   413743 non-null  object \n",
            " 20  latitude                    400887 non-null  float64\n",
            " 21  longitude                   400887 non-null  float64\n",
            " 22  community_board             400887 non-null  float64\n",
            " 23  council_district            400887 non-null  float64\n",
            " 24  census_tract                400887 non-null  float64\n",
            " 25  bin                         399490 non-null  float64\n",
            " 26  bbl                         399490 non-null  float64\n",
            " 27  nta                         400887 non-null  object \n",
            " 28  apartment_number            102586 non-null  object \n",
            "dtypes: float64(15), int64(4), object(10)\n",
            "memory usage: 91.5+ MB\n"
          ]
        }
      ]
    }
  ]
}