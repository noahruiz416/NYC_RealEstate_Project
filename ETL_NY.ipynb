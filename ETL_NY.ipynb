{
  "cells": [
    {
      "cell_type": "markdown",
      "metadata": {
        "id": "view-in-github",
        "colab_type": "text"
      },
      "source": [
        "<a href=\"https://colab.research.google.com/github/noahruiz416/NYC_RealEstate_Project/blob/main/ETL_NY.ipynb\" target=\"_parent\"><img src=\"https://colab.research.google.com/assets/colab-badge.svg\" alt=\"Open In Colab\"/></a>"
      ]
    },
    {
      "cell_type": "markdown",
      "source": [
        "# ETL Script for Real Estate Data in New York City\n",
        "\n",
        "### Purpose of this script is to pull real estate data from NYC open data API. Then transform the dataset into a CSV format. And finally load it into user files in a CSV format."
      ],
      "metadata": {
        "id": "0TmqdUdwTjZE"
      },
      "id": "0TmqdUdwTjZE"
    },
    {
      "cell_type": "code",
      "execution_count": 52,
      "id": "712dcd0f",
      "metadata": {
        "colab": {
          "base_uri": "https://localhost:8080/"
        },
        "id": "712dcd0f",
        "outputId": "4d4a010e-2736-42ff-a9ef-de0eaa798e54"
      },
      "outputs": [
        {
          "output_type": "stream",
          "name": "stdout",
          "text": [
            "Requirement already satisfied: sodapy in /usr/local/lib/python3.7/dist-packages (2.1.0)\n",
            "Requirement already satisfied: requests>=2.20.0 in /usr/local/lib/python3.7/dist-packages (from sodapy) (2.23.0)\n",
            "Requirement already satisfied: idna<3,>=2.5 in /usr/local/lib/python3.7/dist-packages (from requests>=2.20.0->sodapy) (2.10)\n",
            "Requirement already satisfied: certifi>=2017.4.17 in /usr/local/lib/python3.7/dist-packages (from requests>=2.20.0->sodapy) (2021.10.8)\n",
            "Requirement already satisfied: urllib3!=1.25.0,!=1.25.1,<1.26,>=1.21.1 in /usr/local/lib/python3.7/dist-packages (from requests>=2.20.0->sodapy) (1.24.3)\n",
            "Requirement already satisfied: chardet<4,>=3.0.2 in /usr/local/lib/python3.7/dist-packages (from requests>=2.20.0->sodapy) (3.0.4)\n"
          ]
        }
      ],
      "source": [
        "!pip install sodapy\n",
        "import pandas as pd \n",
        "import numpy as np \n",
        "import seaborn as sns\n",
        "import os\n",
        "from google.colab import files\n",
        "from sodapy import Socrata"
      ]
    },
    {
      "cell_type": "code",
      "execution_count": 53,
      "id": "16a66a57",
      "metadata": {
        "colab": {
          "base_uri": "https://localhost:8080/"
        },
        "id": "16a66a57",
        "outputId": "ae54005e-fbfe-49d0-bc30-05ebc5bd2dae"
      },
      "outputs": [
        {
          "output_type": "stream",
          "name": "stderr",
          "text": [
            "WARNING:root:Requests made without an app_token will be subject to strict throttling limits.\n"
          ]
        }
      ],
      "source": [
        "domain = 'data.cityofnewyork.us'\n",
        "identifier = 'w2pb-icbu'\n",
        "socrata_token = os.environ.get(\"usertoken")\n",
        "client = Socrata(domain, socrata_token)"
      ]
    },
    {
      "cell_type": "code",
      "execution_count": 54,
      "id": "fc6228ab",
      "metadata": {
        "id": "fc6228ab"
      },
      "outputs": [],
      "source": [
        "result = client.get(identifier, limit = 415000)\n",
        "df = pd.DataFrame.from_dict(result)"
      ]
    },
    {
      "cell_type": "markdown",
      "source": [
        "## Replacing 'object' values and converting them into numeric data types to be analyzed later"
      ],
      "metadata": {
        "id": "l6X8S4AvT7u2"
      },
      "id": "l6X8S4AvT7u2"
    },
    {
      "cell_type": "code",
      "source": [
        "df['sale_price'] = pd.to_numeric(df['sale_price'], downcast = \"float\")\n",
        "\n",
        "#cleaning square feet\n",
        "df['land_square_feet'] = df['land_square_feet'].str.replace(',', '')\n",
        "df['land_square_feet'] = df['land_square_feet'].str.replace('- 0', '')\n",
        "df['land_square_feet'] = pd.to_numeric(df['land_square_feet'], downcast = \"float\")\n",
        "\n",
        "#cleaning our df\n",
        "df['gross_square_feet'] = df['gross_square_feet'].str.replace(',', '')\n",
        "df['gross_square_feet'] = df['gross_square_feet'].str.replace('- 0', '')\n",
        "df['gross_square_feet'] = pd.to_numeric(df['gross_square_feet'], downcast = \"float\")\n",
        "\n",
        "#latidude + longitude\n",
        "df['latitude'] = pd.to_numeric(df['latitude'], downcast = \"float\")\n",
        "df['longitude'] = pd.to_numeric(df['longitude'], downcast = \"float\")\n",
        "\n",
        "#residential units\n",
        "df['residential_units'] = pd.to_numeric(df['residential_units'], downcast = \"float\")\n",
        "df['commercial_units'] = pd.to_numeric(df['commercial_units'], downcast = \"float\") "
      ],
      "metadata": {
        "id": "eOH99ZqBJNd0"
      },
      "id": "eOH99ZqBJNd0",
      "execution_count": 55,
      "outputs": []
    },
    {
      "cell_type": "code",
      "source": [
        "real_estate_NY_df = df"
      ],
      "metadata": {
        "id": "pNpDFqu8KjIm"
      },
      "id": "pNpDFqu8KjIm",
      "execution_count": 56,
      "outputs": []
    },
    {
      "cell_type": "code",
      "source": [
        "#loading data into a csv format\n",
        "real_estate_NY_df.to_csv('real_estate_NY.csv')\n",
        "files.download('real_estate_NY.csv')"
      ],
      "metadata": {
        "id": "oSlVMy6sO7yD"
      },
      "id": "oSlVMy6sO7yD",
      "execution_count": 61,
      "outputs": []
    }
  ],
  "metadata": {
    "kernelspec": {
      "display_name": "Python 3 (ipykernel)",
      "language": "python",
      "name": "python3"
    },
    "language_info": {
      "codemirror_mode": {
        "name": "ipython",
        "version": 3
      },
      "file_extension": ".py",
      "mimetype": "text/x-python",
      "name": "python",
      "nbconvert_exporter": "python",
      "pygments_lexer": "ipython3",
      "version": "3.9.6"
    },
    "colab": {
      "name": "ETL-NY.ipynb",
      "provenance": [],
      "collapsed_sections": [],
      "include_colab_link": true
    }
  },
  "nbformat": 4,
  "nbformat_minor": 5
}
